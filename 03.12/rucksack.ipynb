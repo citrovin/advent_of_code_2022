{
 "cells": [
  {
   "cell_type": "markdown",
   "metadata": {},
   "source": [
    "# Load Data"
   ]
  },
  {
   "cell_type": "code",
   "execution_count": 137,
   "metadata": {},
   "outputs": [
    {
     "data": {
      "text/plain": [
       "['gvNbShZZgQfWdQhdPQmggLTFLwmwjFqjVVgM',\n",
       " 'CsJnHllcsnnnnJrGRnRwPPLVmFLHLBjFFVHmPT',\n",
       " 'JlnCtctJnJDcJlDCRpPrSSQWfphzWZfbZSvfNfbS']"
      ]
     },
     "execution_count": 137,
     "metadata": {},
     "output_type": "execute_result"
    }
   ],
   "source": [
    "with open('./input.txt') as file:\n",
    "    input = file.read()\n",
    "    file.close()\n",
    "\n",
    "rucksacks = input.split('\\n')\n",
    "rucksacks[:3]"
   ]
  },
  {
   "cell_type": "markdown",
   "metadata": {},
   "source": [
    "# Part 1"
   ]
  },
  {
   "cell_type": "code",
   "execution_count": 138,
   "metadata": {},
   "outputs": [
    {
     "name": "stdout",
     "output_type": "stream",
     "text": [
      "['g', 'v', 'N', 'b', 'S', 'h', 'Z', 'Z', 'g', 'Q', 'f', 'W', 'd', 'Q', 'h', 'd', 'P', 'Q', 'm', 'g', 'g', 'L', 'T', 'F', 'L', 'w', 'm', 'w', 'j', 'F', 'q', 'j', 'V', 'V', 'g', 'M']\n",
      "[7, 22, 40, 2, 45, 8, 52, 52, 7, 43, 6, 49, 4, 43, 8, 4, 42, 43, 13, 7, 7, 38, 46, 32, 38, 23, 13, 23, 10, 32, 17, 10, 48, 48, 7, 39]\n",
      "301\n"
     ]
    },
    {
     "data": {
      "text/plain": [
       "[]"
      ]
     },
     "execution_count": 138,
     "metadata": {},
     "output_type": "execute_result"
    }
   ],
   "source": [
    "rucksack1 = []\n",
    "\n",
    "for i in rucksacks:\n",
    "    rucksack1.append([*i])\n",
    "\n",
    "print(rucksack1[0])\n",
    "\n",
    "rucksack2=[]\n",
    "for i in rucksack1:\n",
    "    intermediate=[]\n",
    "    for j in i:\n",
    "        if(j.isupper()):\n",
    "            u = ord(j)-38\n",
    "            # 65-x=27\n",
    "            # x = -(27-65) = \n",
    "        else:\n",
    "            u = ord(j)-96\n",
    "        intermediate.append(u)\n",
    "    \n",
    "    rucksack2.append(intermediate)\n",
    "\n",
    "print(rucksack2[0])\n",
    "print(len(rucksack2))\n",
    "rucksack2.pop()\n"
   ]
  },
  {
   "cell_type": "code",
   "execution_count": 139,
   "metadata": {},
   "outputs": [
    {
     "data": {
      "text/plain": [
       "[[[7, 22, 40, 2, 45, 8, 52, 52, 7, 43, 6, 49, 4, 43, 8, 4, 42, 43],\n",
       "  [13, 7, 7, 38, 46, 32, 38, 23, 13, 23, 10, 32, 17, 10, 48, 48, 7, 39]],\n",
       " [[29, 19, 36, 14, 34, 12, 12, 3, 19, 14, 14, 14, 14, 36, 18, 33, 44, 14, 44],\n",
       "  [23,\n",
       "   42,\n",
       "   42,\n",
       "   38,\n",
       "   48,\n",
       "   13,\n",
       "   32,\n",
       "   38,\n",
       "   34,\n",
       "   38,\n",
       "   28,\n",
       "   10,\n",
       "   32,\n",
       "   32,\n",
       "   48,\n",
       "   34,\n",
       "   13,\n",
       "   42,\n",
       "   46]]]"
      ]
     },
     "execution_count": 139,
     "metadata": {},
     "output_type": "execute_result"
    }
   ],
   "source": [
    "rucksack3=[]\n",
    "for i in rucksack2:\n",
    "    a=int(len(i)/2)\n",
    "    compartments=[i[:a], i[a:]]\n",
    "    rucksack3.append(compartments)\n",
    "\n",
    "rucksack3[:2]"
   ]
  },
  {
   "cell_type": "code",
   "execution_count": 140,
   "metadata": {},
   "outputs": [
    {
     "name": "stdout",
     "output_type": "stream",
     "text": [
      "7553\n"
     ]
    }
   ],
   "source": [
    "duplicates=[]\n",
    "\n",
    "for i in rucksack3:\n",
    "    for j in i[0]:\n",
    "        if j in i[1]:\n",
    "            duplicates.append(j)\n",
    "            break\n",
    "    \n",
    "\n",
    "print(sum(duplicates))"
   ]
  },
  {
   "cell_type": "markdown",
   "metadata": {},
   "source": [
    "# Part Two"
   ]
  },
  {
   "cell_type": "code",
   "execution_count": 141,
   "metadata": {},
   "outputs": [
    {
     "name": "stdout",
     "output_type": "stream",
     "text": [
      "[7, 22, 40, 2, 45, 8, 52, 52, 7, 43, 6, 49, 4, 43, 8, 4, 42, 43, 13, 7, 7, 38, 46, 32, 38, 23, 13, 23, 10, 32, 17, 10, 48, 48, 7, 39]\n",
      "100\n"
     ]
    }
   ],
   "source": [
    "# Group rucksacks\n",
    "groups = []\n",
    "\n",
    "for i,j in enumerate(rucksack2):\n",
    "    if (i+1)%3==0:\n",
    "        group = [rucksack2[i-2],rucksack2[i-1], j]\n",
    "        groups.append(group)\n",
    "\n",
    "\n",
    "print(rucksack2[0])\n",
    "print(len(groups))\n"
   ]
  },
  {
   "cell_type": "code",
   "execution_count": 144,
   "metadata": {},
   "outputs": [
    {
     "name": "stdout",
     "output_type": "stream",
     "text": [
      "[[7, 22, 40, 2, 45, 8, 52, 52, 7, 43, 6, 49, 4, 43, 8, 4, 42, 43, 13, 7, 7, 38, 46, 32, 38, 23, 13, 23, 10, 32, 17, 10, 48, 48, 7, 39], [29, 19, 36, 14, 34, 12, 12, 3, 19, 14, 14, 14, 14, 36, 18, 33, 44, 14, 44, 23, 42, 42, 38, 48, 13, 32, 38, 34, 38, 28, 10, 32, 32, 48, 34, 13, 42, 46], [36, 12, 14, 29, 20, 3, 20, 36, 14, 36, 30, 3, 36, 12, 30, 29, 44, 16, 42, 18, 45, 45, 43, 49, 6, 16, 8, 26, 49, 52, 6, 2, 52, 45, 22, 6, 40, 6, 2, 45]]\n",
      "[{42}, {14}, {42}, {8}, {13}, {49}, {2}, {20}, {42}, {52}, {19}, {45}, {48}, {39}, {23}, {43}, {43}, {16}, {32}, {13}, {6}, {43}, {29}, {12}, {6}, {22}, {10}, {36}, {12}, {33}, {28}, {38}, {23}, {26}, {14}, {28}, {16}, {43}, {43}, {26}, {12}, {10}, {19}, {34}, {4}, {49}, {45}, {16}, {16}, {36}, {39}, {38}, {23}, {16}, {7}, {46}, {38}, {17}, {44}, {12}, {4}, {48}, {4}, {13}, {13}, {43}, {44}, {49}, {17}, {17}, {44}, {39}, {40}, {49}, {19}, {30}, {4}, {34}, {28}, {52}, {12}, {44}, {33}, {46}, {22}, {28}, {30}, {34}, {13}, {18}, {28}, {46}, {14}, {8}, {7}, {29}, {10}, {48}, {28}, {49}]\n",
      "100\n",
      "2758\n"
     ]
    }
   ],
   "source": [
    "badges = []\n",
    "\n",
    "print(groups[0])\n",
    "\n",
    "\n",
    "for group in groups:\n",
    "    badge=set()\n",
    "    for item in group[0]:\n",
    "        if (item in group[1]):\n",
    "            if(item in group[2]):\n",
    "                badge.add(item)\n",
    "    badges.append(badge)\n",
    "                \n",
    "\n",
    "            \n",
    "print(badges)\n",
    "print(len(badges))\n",
    "badges2 = [i.pop() for i in badges]\n",
    "print(sum(badges2))"
   ]
  },
  {
   "cell_type": "code",
   "execution_count": null,
   "metadata": {},
   "outputs": [],
   "source": []
  }
 ],
 "metadata": {
  "kernelspec": {
   "display_name": "Python 3.10.8 64-bit",
   "language": "python",
   "name": "python3"
  },
  "language_info": {
   "codemirror_mode": {
    "name": "ipython",
    "version": 3
   },
   "file_extension": ".py",
   "mimetype": "text/x-python",
   "name": "python",
   "nbconvert_exporter": "python",
   "pygments_lexer": "ipython3",
   "version": "3.10.8"
  },
  "orig_nbformat": 4,
  "vscode": {
   "interpreter": {
    "hash": "949777d72b0d2535278d3dc13498b2535136f6dfe0678499012e853ee9abcab1"
   }
  }
 },
 "nbformat": 4,
 "nbformat_minor": 2
}

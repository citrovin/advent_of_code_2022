{
 "cells": [
  {
   "cell_type": "code",
   "execution_count": 72,
   "metadata": {},
   "outputs": [
    {
     "name": "stdout",
     "output_type": "stream",
     "text": [
      "# of lines: 1000\n",
      "['8-17,16-49', '17-38,18-36', '17-43,43-43', '86-94,7-87', '23-97,22-85', '8-50,7-50', '82-84,1-83', '43-95,51-94', '7-89,8-90', '85-90,21-70']\n",
      "5-17,4-67\n"
     ]
    }
   ],
   "source": [
    "with open('./input.txt') as file:\n",
    "    string_input = file.read()\n",
    "    file.close()\n",
    "\n",
    "input=string_input.split()\n",
    "print(f'# of lines: {len(input)}')\n",
    "print(input[:10])\n",
    "print(input[-1])"
   ]
  },
  {
   "cell_type": "code",
   "execution_count": 73,
   "metadata": {},
   "outputs": [
    {
     "name": "stdout",
     "output_type": "stream",
     "text": [
      "[[[8, 17], [16, 49]], [[17, 38], [18, 36]], [[17, 43], [43, 43]], [[86, 94], [7, 87]], [[23, 97], [22, 85]], [[8, 50], [7, 50]], [[82, 84], [1, 83]], [[43, 95], [51, 94]], [[7, 89], [8, 90]], [[85, 90], [21, 70]]]\n"
     ]
    }
   ],
   "source": [
    "# convert the assigned sections to list of number\n",
    "section_ids_str_pair = [i.split(',') for i in input]\n",
    "#print(section_ids_str_pair[:10])\n",
    "\n",
    "# first entry smallest value and second entry biggest value\n",
    "section_ids_str=[]\n",
    "for i in section_ids_str_pair:\n",
    "    section=[]\n",
    "    for j in i:\n",
    "        #print(j)\n",
    "        j1 = j.split('-')\n",
    "        #print(j1)\n",
    "        j2 = [int(k) for k in j1] # convert to integers\n",
    "        section.append(j2)\n",
    "        \n",
    "    \n",
    "    section_ids_str.append(section)\n",
    "    \n",
    "\n",
    "print(section_ids_str[:10])\n",
    "\n",
    "    "
   ]
  },
  {
   "cell_type": "code",
   "execution_count": 74,
   "metadata": {},
   "outputs": [
    {
     "name": "stdout",
     "output_type": "stream",
     "text": [
      "[[[17, 38], [18, 36]], [[17, 43], [43, 43]], [[8, 50], [7, 50]], [[43, 95], [51, 94]], [[93, 98], [18, 99]], [[25, 65], [64, 65]], [[13, 53], [12, 53]], [[1, 79], [58, 78]], [[56, 86], [86, 86]], [[79, 83], [80, 83]]]\n",
      "413\n",
      "[[[8, 17], [16, 49]], [[17, 38], [18, 36]], [[17, 43], [43, 43]], [[86, 94], [7, 87]], [[23, 97], [22, 85]], [[8, 50], [7, 50]], [[82, 84], [1, 83]], [[43, 95], [51, 94]], [[7, 89], [8, 90]], [[85, 90], [21, 70]]]\n"
     ]
    }
   ],
   "source": [
    "solution=[]\n",
    "for i, pair in enumerate(section_ids_str):\n",
    "    # case 1: second is within first\n",
    "    if (pair[0][0]<=pair[1][0] and pair[0][1]>=pair[1][1]):\n",
    "        #print('case 1: ', pair)\n",
    "        solution.append(pair)\n",
    "        continue\n",
    "\n",
    "    # case 2: first is within second\n",
    "    if (pair[0][0]>=pair[1][0] and pair[0][1]<=pair[1][1]):\n",
    "        #print('case 2: ', pair)\n",
    "        solution.append(pair)\n",
    "\n",
    "\n",
    "print(solution[:10])\n",
    "print(len(solution))\n",
    "print(section_ids_str[:10])"
   ]
  },
  {
   "cell_type": "code",
   "execution_count": 76,
   "metadata": {},
   "outputs": [
    {
     "name": "stdout",
     "output_type": "stream",
     "text": [
      "806\n"
     ]
    }
   ],
   "source": [
    "solution2= []\n",
    "\n",
    "\n",
    "# check overlapping ranges\n",
    "\n",
    "\n",
    "for i, pair in enumerate(section_ids_str):\n",
    "\n",
    "    #######################################################\n",
    "    # Rage completly inside\n",
    "\n",
    "    # case 1: second is within first\n",
    "    if (pair[0][0]<=pair[1][0] and pair[0][1]>=pair[1][0]):\n",
    "        #print('case 1: ', pair)\n",
    "        solution2.append(pair)\n",
    "        continue\n",
    "\n",
    "    if (pair[0][0]>=pair[1][0] and pair[0][0]<=pair[1][1]):\n",
    "        #print('case 1: ', pair)\n",
    "        solution2.append(pair)\n",
    "        continue\n",
    "\n",
    "\n",
    "    # -  -\n",
    "    #  -    -\n",
    "\n",
    "\n",
    "    #  -  -\n",
    "    # - -\n",
    "\n",
    "\n",
    "print(len(solution2))\n",
    "\n",
    "    "
   ]
  },
  {
   "cell_type": "code",
   "execution_count": null,
   "metadata": {},
   "outputs": [],
   "source": []
  }
 ],
 "metadata": {
  "kernelspec": {
   "display_name": "Python 3.10.8 64-bit",
   "language": "python",
   "name": "python3"
  },
  "language_info": {
   "codemirror_mode": {
    "name": "ipython",
    "version": 3
   },
   "file_extension": ".py",
   "mimetype": "text/x-python",
   "name": "python",
   "nbconvert_exporter": "python",
   "pygments_lexer": "ipython3",
   "version": "3.10.8"
  },
  "orig_nbformat": 4,
  "vscode": {
   "interpreter": {
    "hash": "949777d72b0d2535278d3dc13498b2535136f6dfe0678499012e853ee9abcab1"
   }
  }
 },
 "nbformat": 4,
 "nbformat_minor": 2
}

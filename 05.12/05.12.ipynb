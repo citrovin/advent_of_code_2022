{
 "cells": [
  {
   "cell_type": "code",
   "execution_count": 133,
   "metadata": {},
   "outputs": [
    {
     "name": "stdout",
     "output_type": "stream",
     "text": [
      "['[N]         [C]     [Z]            ', '[Q] [G]     [V]     [S]         [V]', '[L] [C]     [M]     [T]     [W] [L]', '[S] [H]     [L]     [C] [D] [H] [S]', '[C] [V] [F] [D]     [D] [B] [Q] [F]', '[Z] [T] [Z] [T] [C] [J] [G] [S] [Q]', '[P] [P] [C] [W] [W] [F] [W] [J] [C]', '[T] [L] [D] [G] [P] [P] [V] [N] [R]']\n",
      " 1   2   3   4   5   6   7   8   9 \n"
     ]
    }
   ],
   "source": [
    "with open('./input.txt') as file:\n",
    "    input=file.read()\n",
    "    file.close()\n",
    "\n",
    "\n",
    "input=input.split('\\n')\n",
    "stacks_T = input[:8]\n",
    "classes = input[8]\n",
    "rules = input[10:]\n",
    "rules.pop()\n",
    "\n",
    "\n",
    "print(stacks_T)\n",
    "print(classes)"
   ]
  },
  {
   "cell_type": "code",
   "execution_count": 134,
   "metadata": {},
   "outputs": [
    {
     "data": {
      "text/plain": [
       "[['[N]', '0', '0', '[C]', '0', '[Z]', '0', '0', '0'],\n",
       " ['[Q]', '[G]', '0', '[V]', '0', '[S]', '0', '0', '[V]'],\n",
       " ['[L]', '[C]', '0', '[M]', '0', '[T]', '0', '[W]', '[L]'],\n",
       " ['[S]', '[H]', '0', '[L]', '0', '[C]', '[D]', '[H]', '[S]'],\n",
       " ['[C]', '[V]', '[F]', '[D]', '0', '[D]', '[B]', '[Q]', '[F]'],\n",
       " ['[Z]', '[T]', '[Z]', '[T]', '[C]', '[J]', '[G]', '[S]', '[Q]'],\n",
       " ['[P]', '[P]', '[C]', '[W]', '[W]', '[F]', '[W]', '[J]', '[C]'],\n",
       " ['[T]', '[L]', '[D]', '[G]', '[P]', '[P]', '[V]', '[N]', '[R]']]"
      ]
     },
     "execution_count": 134,
     "metadata": {},
     "output_type": "execute_result"
    }
   ],
   "source": [
    "import re\n",
    "# transform into correct format\n",
    "stacks_T = [re.sub(r\"(\\s\\s\\s\\s)\", \" 0\", i).split(' ') for i in stacks_T]\n",
    "stacks_T\n"
   ]
  },
  {
   "cell_type": "code",
   "execution_count": 135,
   "metadata": {},
   "outputs": [
    {
     "data": {
      "text/plain": [
       "[['[T]', '[P]', '[Z]', '[C]', '[S]', '[L]', '[Q]', '[N]'],\n",
       " ['[L]', '[P]', '[T]', '[V]', '[H]', '[C]', '[G]'],\n",
       " ['[D]', '[C]', '[Z]', '[F]'],\n",
       " ['[G]', '[W]', '[T]', '[D]', '[L]', '[M]', '[V]', '[C]'],\n",
       " ['[P]', '[W]', '[C]'],\n",
       " ['[P]', '[F]', '[J]', '[D]', '[C]', '[T]', '[S]', '[Z]'],\n",
       " ['[V]', '[W]', '[G]', '[B]', '[D]'],\n",
       " ['[N]', '[J]', '[S]', '[Q]', '[H]', '[W]'],\n",
       " ['[R]', '[C]', '[Q]', '[F]', '[S]', '[L]', '[V]']]"
      ]
     },
     "execution_count": 135,
     "metadata": {},
     "output_type": "execute_result"
    }
   ],
   "source": [
    "stacks = [[] for _ in range(0,9)]\n",
    "\n",
    "for i, stack in enumerate(stacks):\n",
    "    inter=[j[i] for j in stacks_T]\n",
    "    inter.reverse()\n",
    "    \n",
    "    \n",
    "    for k, elem in enumerate(inter):\n",
    "        if(elem=='0'):\n",
    "            inter = inter[:k]\n",
    "\n",
    "    stacks[i] = inter\n",
    "\n",
    "stacks\n",
    "    "
   ]
  },
  {
   "cell_type": "code",
   "execution_count": 136,
   "metadata": {},
   "outputs": [
    {
     "name": "stdout",
     "output_type": "stream",
     "text": [
      "move 6 from 2 to 1\n",
      "[[6, 2, 1], [4, 6, 3], [1, 6, 5], [8, 3, 8], [13, 8, 2], [2, 7, 6], [10, 1, 6], [3, 2, 8], [5, 4, 2], [15, 6, 5]]\n"
     ]
    }
   ],
   "source": [
    "# rules: [number to be moved, start, destination]\n",
    "rules_int=[]\n",
    "for rule in rules:\n",
    "    rule = rule.replace(\"move \", \"\")\n",
    "    rule = rule.replace(\"from \", \"\")\n",
    "    rule = rule.replace(\"to \", \"\")\n",
    "    \n",
    "    rule=rule.split(' ')\n",
    "    rule=[int(i) for i in rule]\n",
    "    rules_int.append(rule)\n",
    "\n",
    "\n",
    "print(rules[0])\n",
    "print(rules_int[:10])\n"
   ]
  },
  {
   "cell_type": "code",
   "execution_count": 137,
   "metadata": {},
   "outputs": [
    {
     "name": "stdout",
     "output_type": "stream",
     "text": [
      "[['[S]', '[C]', '[W]', '[C]', '[Z]', '[J]', '[G]', '[S]'], ['[B]', '[W]', '[Q]', '[Z]', '[V]'], ['[F]', '[P]', '[Z]', '[N]', '[Q]', '[T]', '[C]', '[C]', '[F]'], ['[J]', '[H]', '[R]', '[D]', '[D]'], ['[P]', '[S]', '[W]', '[G]', '[L]', '[Q]', '[C]', '[H]', '[V]', '[V]', '[C]', '[L]', '[S]', '[P]', '[L]'], ['[M]', '[F]', '[T]', '[C]', '[G]'], ['[L]'], ['[D]', '[D]', '[W]'], ['[T]', '[T]', '[N]', '[P]', '[V]']]\n"
     ]
    }
   ],
   "source": [
    "big_list=stacks.copy()\n",
    "\n",
    "for i, rule in enumerate(rules_int):\n",
    "    try:\n",
    "        # given a rule, sort the elements\n",
    "        for r in range(0, rule[0]):\n",
    "            elem = big_list[rule[1]-1].pop()\n",
    "            big_list[rule[2]-1].append(elem)\n",
    "    except:\n",
    "        print(f'Rule {i} was broken!')\n",
    "        print(rule)\n",
    "        print(\"From: \", big_list[rule[1]-1])\n",
    "        print(\"To: \", big_list[rule[2]-1])\n",
    "        break\n",
    "\n",
    "print(big_list)\n"
   ]
  },
  {
   "cell_type": "code",
   "execution_count": 138,
   "metadata": {},
   "outputs": [
    {
     "name": "stdout",
     "output_type": "stream",
     "text": [
      "SVFDLGLWV\n"
     ]
    }
   ],
   "source": [
    "output = \"\"\n",
    "\n",
    "for elem in big_list:\n",
    "    output=output+elem[-1]\n",
    "\n",
    "\n",
    "print(re.sub(r\"\\[|\\]\", \"\", output))\n"
   ]
  },
  {
   "cell_type": "markdown",
   "metadata": {},
   "source": [
    "# Part 2"
   ]
  },
  {
   "cell_type": "code",
   "execution_count": 139,
   "metadata": {},
   "outputs": [
    {
     "data": {
      "text/plain": [
       "[['[T]', '[P]', '[Z]', '[C]', '[S]', '[L]', '[Q]', '[N]'],\n",
       " ['[L]', '[P]', '[T]', '[V]', '[H]', '[C]', '[G]'],\n",
       " ['[D]', '[C]', '[Z]', '[F]'],\n",
       " ['[G]', '[W]', '[T]', '[D]', '[L]', '[M]', '[V]', '[C]'],\n",
       " ['[P]', '[W]', '[C]'],\n",
       " ['[P]', '[F]', '[J]', '[D]', '[C]', '[T]', '[S]', '[Z]'],\n",
       " ['[V]', '[W]', '[G]', '[B]', '[D]'],\n",
       " ['[N]', '[J]', '[S]', '[Q]', '[H]', '[W]'],\n",
       " ['[R]', '[C]', '[Q]', '[F]', '[S]', '[L]', '[V]']]"
      ]
     },
     "execution_count": 139,
     "metadata": {},
     "output_type": "execute_result"
    }
   ],
   "source": [
    "stacks = [['[T]', '[P]', '[Z]', '[C]', '[S]', '[L]', '[Q]', '[N]'],\n",
    " ['[L]', '[P]', '[T]', '[V]', '[H]', '[C]', '[G]'],\n",
    " ['[D]', '[C]', '[Z]', '[F]'],\n",
    " ['[G]', '[W]', '[T]', '[D]', '[L]', '[M]', '[V]', '[C]'],\n",
    " ['[P]', '[W]', '[C]'],\n",
    " ['[P]', '[F]', '[J]', '[D]', '[C]', '[T]', '[S]', '[Z]'],\n",
    " ['[V]', '[W]', '[G]', '[B]', '[D]'],\n",
    " ['[N]', '[J]', '[S]', '[Q]', '[H]', '[W]'],\n",
    " ['[R]', '[C]', '[Q]', '[F]', '[S]', '[L]', '[V]']]\n",
    " \n",
    "big_list=stacks.copy()\n",
    "big_list\n"
   ]
  },
  {
   "cell_type": "code",
   "execution_count": 140,
   "metadata": {},
   "outputs": [],
   "source": [
    "for rule in rules_int:\n",
    "    inter=[]\n",
    "    for i in range(0, rule[0]):\n",
    "        inter.append(big_list[rule[1]-1].pop())\n",
    "        \n",
    "    inter.reverse()\n",
    "    big_list[rule[2]-1].extend(inter)"
   ]
  },
  {
   "cell_type": "code",
   "execution_count": 141,
   "metadata": {},
   "outputs": [
    {
     "name": "stdout",
     "output_type": "stream",
     "text": [
      "DCVTCVPCL\n"
     ]
    }
   ],
   "source": [
    "output = \"\"\n",
    "\n",
    "for elem in big_list:\n",
    "    output=output+elem[-1]\n",
    "\n",
    "\n",
    "print(re.sub(r\"\\[|\\]\", \"\", output))"
   ]
  }
 ],
 "metadata": {
  "kernelspec": {
   "display_name": "Python 3.10.8 ('venv_advent')",
   "language": "python",
   "name": "python3"
  },
  "language_info": {
   "codemirror_mode": {
    "name": "ipython",
    "version": 3
   },
   "file_extension": ".py",
   "mimetype": "text/x-python",
   "name": "python",
   "nbconvert_exporter": "python",
   "pygments_lexer": "ipython3",
   "version": "3.10.8"
  },
  "orig_nbformat": 4,
  "vscode": {
   "interpreter": {
    "hash": "d8e244ea54adedbdc2d2266dd8d3707c2c5f69ffb21aadd0efde0eacbc0cf923"
   }
  }
 },
 "nbformat": 4,
 "nbformat_minor": 2
}

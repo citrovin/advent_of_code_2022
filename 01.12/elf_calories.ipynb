{
 "cells": [
  {
   "cell_type": "code",
   "execution_count": 14,
   "metadata": {},
   "outputs": [],
   "source": [
    "# read data from input\n",
    "with open(\"./input.txt\") as file:\n",
    "    input = file.read()\n"
   ]
  },
  {
   "cell_type": "code",
   "execution_count": 15,
   "metadata": {},
   "outputs": [
    {
     "name": "stdout",
     "output_type": "stream",
     "text": [
      "Last item: '4096\\n3034\\n7454\\n5203\\n7155\\n4541\\n6407\\n1518\\n5794\\n1689\\n5509\\n'\n",
      "Second last item: '5539\\n1365\\n4993\\n2639\\n3728\\n5255\\n1987\\n6113\\n5795\\n5549\\n2504\\n2657\\n4474\\n5051\\n4145'\n",
      "['4096', '3034', '7454', '5203', '7155', '4541', '6407', '1518', '5794', '1689', '5509', '']\n"
     ]
    }
   ],
   "source": [
    "# get the values for every elf\n",
    "elves_str = input.rsplit('\\n\\n')\n",
    "cal_elves_str = [i.split('\\n') for i in elves_str]"
   ]
  },
  {
   "cell_type": "code",
   "execution_count": 17,
   "metadata": {},
   "outputs": [
    {
     "name": "stdout",
     "output_type": "stream",
     "text": [
      "[2027, 1630, 4699, 3860, 5686, 1178, 4983, 1075, 5436, 2522, 4455, 4808, 3644, 2344, 1671]\n"
     ]
    }
   ],
   "source": [
    "cal_elves_str[-1].pop()\n",
    "\n",
    "cal_elves_int = []\n",
    "for i in cal_elves_str:\n",
    "    cal_elf = [int(j) for j in i]\n",
    "    cal_elves_int.append(cal_elf)\n",
    "\n",
    "print(cal_elves_int[0])"
   ]
  },
  {
   "cell_type": "code",
   "execution_count": 22,
   "metadata": {},
   "outputs": [
    {
     "name": "stdout",
     "output_type": "stream",
     "text": [
      "Elf 25 has the most nutritional food | Maximum amount of calories: 70764\n",
      "Elf 177 has the most nutritional food | Maximum amount of calories: 67568\n",
      "Elf 37 has the most nutritional food | Maximum amount of calories: 65573\n",
      "Total calories: 203905\n"
     ]
    }
   ],
   "source": [
    "cal_count=[sum(i) for i in cal_elves_int]\n",
    "first=(cal_count.index(max(cal_count)), max(cal_count))\n",
    "cal_count.remove(first[1])\n",
    "\n",
    "second=(cal_count.index(max(cal_count)), max(cal_count))\n",
    "cal_count.remove(second[1])\n",
    "\n",
    "third=(cal_count.index(max(cal_count)), max(cal_count))\n",
    "total=first[1]+second[1]+third[1]\n",
    "\n",
    "\n",
    "\n",
    "print(f'Elf {first[0]} has the most nutritional food | Maximum amount of calories: {first[1]}')\n",
    "print(f'Elf {second[0]} has the most nutritional food | Maximum amount of calories: {second[1]}')\n",
    "print(f'Elf {third[0]} has the most nutritional food | Maximum amount of calories: {third[1]}')\n",
    "print(f'Total calories: {total}')"
   ]
  }
 ],
 "metadata": {
  "kernelspec": {
   "display_name": "Python 3.10.8 ('venv_advent')",
   "language": "python",
   "name": "python3"
  },
  "language_info": {
   "codemirror_mode": {
    "name": "ipython",
    "version": 3
   },
   "file_extension": ".py",
   "mimetype": "text/x-python",
   "name": "python",
   "nbconvert_exporter": "python",
   "pygments_lexer": "ipython3",
   "version": "3.10.8"
  },
  "orig_nbformat": 4,
  "vscode": {
   "interpreter": {
    "hash": "d8e244ea54adedbdc2d2266dd8d3707c2c5f69ffb21aadd0efde0eacbc0cf923"
   }
  }
 },
 "nbformat": 4,
 "nbformat_minor": 2
}

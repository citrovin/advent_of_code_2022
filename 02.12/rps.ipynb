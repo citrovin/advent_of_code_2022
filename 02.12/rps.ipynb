{
 "cells": [
  {
   "cell_type": "markdown",
   "metadata": {},
   "source": [
    "# Load Data"
   ]
  },
  {
   "cell_type": "code",
   "execution_count": 1,
   "metadata": {},
   "outputs": [],
   "source": [
    "with open('./input.txt') as file:\n",
    "    input = file.read()\n",
    "    file.close()\n"
   ]
  },
  {
   "cell_type": "markdown",
   "metadata": {},
   "source": [
    "# First Part"
   ]
  },
  {
   "cell_type": "code",
   "execution_count": 2,
   "metadata": {},
   "outputs": [
    {
     "name": "stdout",
     "output_type": "stream",
     "text": [
      "# of games:  2500\n",
      "Length opponent:  2500\n",
      "Length you:  2500\n",
      "['Y', 'Z', 'Z', 'Z', 'Y', 'Z', 'Z', 'Y', 'Y', 'X']\n"
     ]
    }
   ],
   "source": [
    "games = input.split('\\n')\n",
    "games.pop()\n",
    "print('# of games: ',len(games))\n",
    "\n",
    "opponent = []\n",
    "you = []\n",
    "\n",
    "for i in games:\n",
    "    both = i.split()\n",
    "    opponent.append(both[0])\n",
    "    you.append(both[1])\n",
    "\n",
    "print('Length opponent: ',len(opponent))\n",
    "print('Length you: ', len(you))\n",
    "print(you[:10])\n",
    "\n"
   ]
  },
  {
   "cell_type": "code",
   "execution_count": 3,
   "metadata": {},
   "outputs": [
    {
     "name": "stdout",
     "output_type": "stream",
     "text": [
      "2500\n",
      "['C Y', 'C Z', 'C Z', 'C Z', 'A Y', 'C Z', 'C Z', 'B Y', 'C Y', 'A X']\n",
      "[2, 6, 6, 6, 8, 6, 6, 5, 2, 4]\n",
      "total score:  10718\n"
     ]
    }
   ],
   "source": [
    "wins = ['A Y', 'B Z', 'C X']\n",
    "ties = ['A X', 'B Y', 'C Z']\n",
    "\n",
    "points = {\n",
    "    'X': 1,\n",
    "    'Y': 2,\n",
    "    'Z': 3\n",
    "}\n",
    "scores=[]\n",
    "for i, game in enumerate(games):\n",
    "    total=0\n",
    "    if game in wins:\n",
    "         total+=6\n",
    "    elif game in ties:\n",
    "        total+=3\n",
    "    for key in points:\n",
    "        if you[i] == key:\n",
    "            total+=points[key]\n",
    "    \n",
    "    scores.append(total)\n",
    "\n",
    "print(len(scores))\n",
    "print(games[:10])\n",
    "print(scores[:10])\n",
    "\n",
    "print('total score: ', sum(scores))"
   ]
  },
  {
   "cell_type": "markdown",
   "metadata": {},
   "source": [
    "# Second Part"
   ]
  },
  {
   "cell_type": "code",
   "execution_count": 11,
   "metadata": {},
   "outputs": [
    {
     "name": "stdout",
     "output_type": "stream",
     "text": [
      "[['C', 'Y'], ['C', 'Z'], ['C', 'Z']]\n"
     ]
    }
   ],
   "source": [
    "# X = loose, Y = draw, Z = win\n",
    "\n",
    "# returns every game as a list of components\n",
    "instructions = [i.split() for i in games]\n",
    "print(instructions[:3])\n",
    "\n",
    "points = {\n",
    "    'A': 1,\n",
    "    'B': 2,\n",
    "    'C': 3\n",
    "}\n",
    "\n",
    "complements_win = {\n",
    "    'A': 'B',\n",
    "    'B': 'C',\n",
    "    'C': 'A'\n",
    "}\n",
    "\n",
    "loss = {\n",
    "    'A': 'C',\n",
    "    'B': 'A',\n",
    "    'C': 'B'\n",
    "}\n",
    "\n"
   ]
  },
  {
   "cell_type": "code",
   "execution_count": 18,
   "metadata": {},
   "outputs": [
    {
     "name": "stdout",
     "output_type": "stream",
     "text": [
      "[6, 7, 7, 7, 4, 7, 7, 5, 6, 3]\n",
      "14652\n"
     ]
    }
   ],
   "source": [
    "scores_pred_outcome = []\n",
    "\n",
    "for i, elem in enumerate(instructions):\n",
    "    score = 0\n",
    "\n",
    "    # compute scores of win, loss, draw\n",
    "    if elem[1]=='X':\n",
    "        # loss\n",
    "        score=0\n",
    "\n",
    "        hand = loss[elem[0]]\n",
    "        #print(hand)\n",
    "        score+=points[hand]\n",
    "        #print(score)\n",
    "        scores_pred_outcome.append(score)\n",
    "\n",
    "    elif elem[1]=='Y':\n",
    "        # draw\n",
    "        score=3\n",
    "        #print(elem)\n",
    "\n",
    "        score+=points[elem[0]]\n",
    "        #print(score)\n",
    "\n",
    "        scores_pred_outcome.append(score)\n",
    "    elif elem[1]=='Z':\n",
    "        # win\n",
    "        score=6\n",
    "        hand = complements_win[elem[0]]\n",
    "        score+=points[hand]\n",
    "        # print(elem)\n",
    "        # print(hand)\n",
    "        # print(score)\n",
    "\n",
    "        scores_pred_outcome.append(score)\n",
    "\n",
    "\n",
    "\n",
    "print(scores_pred_outcome[:10])\n",
    "print(sum(scores_pred_outcome))\n",
    "\n"
   ]
  },
  {
   "cell_type": "code",
   "execution_count": null,
   "metadata": {},
   "outputs": [],
   "source": []
  }
 ],
 "metadata": {
  "kernelspec": {
   "display_name": "Python 3.10.8 64-bit",
   "language": "python",
   "name": "python3"
  },
  "language_info": {
   "codemirror_mode": {
    "name": "ipython",
    "version": 3
   },
   "file_extension": ".py",
   "mimetype": "text/x-python",
   "name": "python",
   "nbconvert_exporter": "python",
   "pygments_lexer": "ipython3",
   "version": "3.10.8"
  },
  "orig_nbformat": 4,
  "vscode": {
   "interpreter": {
    "hash": "949777d72b0d2535278d3dc13498b2535136f6dfe0678499012e853ee9abcab1"
   }
  }
 },
 "nbformat": 4,
 "nbformat_minor": 2
}
